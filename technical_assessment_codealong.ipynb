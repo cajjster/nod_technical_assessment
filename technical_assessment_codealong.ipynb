{
 "cells": [
  {
   "cell_type": "markdown",
   "id": "fde2b120",
   "metadata": {},
   "source": [
    "# Python Codealong | Techincal Interview Prep\n"
   ]
  },
  {
   "cell_type": "markdown",
   "id": "867110e7",
   "metadata": {},
   "source": [
    "## Intro to Python & Notebooks\n",
    "\n",
    "* Easiest programming language to learn\n",
    "* Built-in functions makes for faster development\n",
    "* Running code and creating cells"
   ]
  },
  {
   "cell_type": "code",
   "execution_count": null,
   "id": "09f97677",
   "metadata": {},
   "outputs": [],
   "source": []
  },
  {
   "cell_type": "code",
   "execution_count": null,
   "id": "88251d74",
   "metadata": {},
   "outputs": [],
   "source": []
  },
  {
   "cell_type": "markdown",
   "id": "543c0b2a",
   "metadata": {},
   "source": [
    "## Variables & Data Types\n",
    "\n",
    "* Why we need variables\n",
    "* Why we have 4 types of data"
   ]
  },
  {
   "cell_type": "code",
   "execution_count": null,
   "id": "20054d28",
   "metadata": {},
   "outputs": [],
   "source": []
  },
  {
   "cell_type": "code",
   "execution_count": null,
   "id": "13ce278d",
   "metadata": {},
   "outputs": [],
   "source": []
  },
  {
   "cell_type": "code",
   "execution_count": null,
   "id": "b75f07b0",
   "metadata": {},
   "outputs": [],
   "source": []
  },
  {
   "cell_type": "markdown",
   "id": "d05bb9f1",
   "metadata": {},
   "source": [
    "## if-statements\n",
    "\n",
    "* Using logic to make your program make decisions"
   ]
  },
  {
   "cell_type": "code",
   "execution_count": null,
   "id": "6c00c43b",
   "metadata": {},
   "outputs": [],
   "source": []
  },
  {
   "cell_type": "code",
   "execution_count": null,
   "id": "06f56ff2",
   "metadata": {},
   "outputs": [],
   "source": []
  },
  {
   "cell_type": "code",
   "execution_count": null,
   "id": "6d1bfc8d",
   "metadata": {},
   "outputs": [],
   "source": []
  },
  {
   "cell_type": "markdown",
   "id": "6f6c49dc",
   "metadata": {},
   "source": [
    "## Lists\n",
    "\n",
    "* Understanding the properties of the most used data structure."
   ]
  },
  {
   "cell_type": "code",
   "execution_count": 1,
   "id": "fe308839",
   "metadata": {},
   "outputs": [],
   "source": [
    "facts_about_lists = [\n",
    "    \"Lists are ordered, meaning we keep track of elements by their index position\",\n",
    "    \"Lists are mutable, meaning you can change, add, or remove items after creating it.\",\n",
    "    \"A list can contain any data type\", True, 23, 4.44, [\"You can even put a list in the list\", True]\n",
    "]"
   ]
  },
  {
   "cell_type": "code",
   "execution_count": null,
   "id": "b8db72a4",
   "metadata": {},
   "outputs": [],
   "source": []
  },
  {
   "cell_type": "code",
   "execution_count": null,
   "id": "f8f9334a",
   "metadata": {},
   "outputs": [],
   "source": []
  },
  {
   "cell_type": "code",
   "execution_count": null,
   "id": "4512e2f4",
   "metadata": {},
   "outputs": [],
   "source": []
  },
  {
   "cell_type": "code",
   "execution_count": null,
   "id": "65aa95e9",
   "metadata": {},
   "outputs": [],
   "source": []
  },
  {
   "cell_type": "markdown",
   "id": "0002722d",
   "metadata": {},
   "source": [
    "## For Loops\n",
    "\n",
    "* Why computers are so good at carrying out repetitive tasks reliably and fast!\n",
    "* Combining Loops & if-statements\n",
    "* A very useful approach to solve problems in python"
   ]
  },
  {
   "cell_type": "code",
   "execution_count": null,
   "id": "4024f583",
   "metadata": {},
   "outputs": [],
   "source": [
    "defintion = \"A loop is a set of instructions that are\\\n",
    " being repeated over and over again, until a condition is met\""
   ]
  },
  {
   "cell_type": "code",
   "execution_count": null,
   "id": "6acb40f7",
   "metadata": {},
   "outputs": [],
   "source": []
  },
  {
   "cell_type": "code",
   "execution_count": null,
   "id": "ea4cc003",
   "metadata": {},
   "outputs": [],
   "source": [
    "daily_sales = [\n",
    "    2450.75, 3120.00, 1985.40, 2890.60, 3300.25,\n",
    "    2765.90, 3105.50, 2950.10, 3420.80, 2995.75,\n",
    "    2350.75, 2120.00, 1385.30, 2890.60, 3300.35,\n",
    "    2765.90, 3105.50, 2955.10, 3420.80, 4995.75,\n",
    "]"
   ]
  },
  {
   "cell_type": "code",
   "execution_count": null,
   "id": "138c6dd3",
   "metadata": {},
   "outputs": [],
   "source": []
  },
  {
   "cell_type": "code",
   "execution_count": null,
   "id": "b0245392",
   "metadata": {},
   "outputs": [],
   "source": []
  },
  {
   "cell_type": "markdown",
   "id": "d31486c5",
   "metadata": {},
   "source": [
    "## Functions\n",
    "* Built-in functions vs. User-Defined Functions\n",
    "* Creating a function vs. Calling a Function"
   ]
  },
  {
   "cell_type": "code",
   "execution_count": null,
   "id": "e3c3f130",
   "metadata": {},
   "outputs": [],
   "source": []
  },
  {
   "cell_type": "code",
   "execution_count": null,
   "id": "4a069f2b",
   "metadata": {},
   "outputs": [],
   "source": []
  },
  {
   "cell_type": "code",
   "execution_count": null,
   "id": "37df7f75",
   "metadata": {},
   "outputs": [],
   "source": []
  },
  {
   "cell_type": "code",
   "execution_count": null,
   "id": "b27bf7f6",
   "metadata": {},
   "outputs": [],
   "source": []
  }
 ],
 "metadata": {
  "kernelspec": {
   "display_name": "Python 3 (ipykernel)",
   "language": "python",
   "name": "python3"
  },
  "language_info": {
   "codemirror_mode": {
    "name": "ipython",
    "version": 3
   },
   "file_extension": ".py",
   "mimetype": "text/x-python",
   "name": "python",
   "nbconvert_exporter": "python",
   "pygments_lexer": "ipython3",
   "version": "3.11.5"
  },
  "varInspector": {
   "cols": {
    "lenName": 16,
    "lenType": 16,
    "lenVar": 40
   },
   "kernels_config": {
    "python": {
     "delete_cmd_postfix": "",
     "delete_cmd_prefix": "del ",
     "library": "var_list.py",
     "varRefreshCmd": "print(var_dic_list())"
    },
    "r": {
     "delete_cmd_postfix": ") ",
     "delete_cmd_prefix": "rm(",
     "library": "var_list.r",
     "varRefreshCmd": "cat(var_dic_list()) "
    }
   },
   "types_to_exclude": [
    "module",
    "function",
    "builtin_function_or_method",
    "instance",
    "_Feature"
   ],
   "window_display": false
  }
 },
 "nbformat": 4,
 "nbformat_minor": 5
}
